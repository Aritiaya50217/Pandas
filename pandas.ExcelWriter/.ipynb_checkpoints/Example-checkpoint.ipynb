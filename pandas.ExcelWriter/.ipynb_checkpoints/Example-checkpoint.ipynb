{
 "cells": [
  {
   "cell_type": "code",
   "execution_count": 11,
   "metadata": {},
   "outputs": [],
   "source": [
    "import pandas as pd\n",
    "\n",
    "df = pd.DataFrame([[\"ABC\" , \"XYZ\"]] , columns = [\"Foo\" , \"Bar\"])\n",
    "# เขียนเป็นไฟล์ excel\n",
    "with pd.ExcelWriter(\"path_to_file.xlsx\") as writer:\n",
    "    df.to_excel(writer)"
   ]
  },
  {
   "cell_type": "code",
   "execution_count": 16,
   "metadata": {},
   "outputs": [],
   "source": [
    "import pandas as pd\n",
    "\n",
    "df1 = pd.DataFrame([[\"AAA\", \"BBB\"]], columns=[\"Spam\", \"Egg\"])\n",
    "df2 = pd.DataFrame([[\"ABC\", \"XYZ\"]], columns=[\"Foo\", \"Bar\"])\n",
    "\n",
    "with pd.ExcelWriter(\"path_to_file_sheet.xlsx\") as writer:\n",
    "    df1.to_excel(writer, sheet_name=\"Sheet1\")\n",
    "    df2.to_excel(writer, sheet_name=\"Sheet2\")"
   ]
  },
  {
   "cell_type": "code",
   "execution_count": 18,
   "metadata": {},
   "outputs": [],
   "source": [
    "# set the date format or datetime format\n",
    "import pandas as pd\n",
    "\n",
    "from datetime import date, datetime\n",
    "df = pd.DataFrame(\n",
    "    [\n",
    "        [date(2014, 1, 31), date(1999, 9, 24)],\n",
    "        [datetime(1998, 5, 26, 23, 33, 4), datetime(2014, 2, 28, 13, 5, 13)],\n",
    "    ],\n",
    "    index=[\"Date\", \"Datetime\"],\n",
    "    columns=[\"X\", \"Y\"],\n",
    ")\n",
    "\n",
    "with pd.ExcelWriter(\n",
    "    \"path_to_file_datetime.xlsx\",\n",
    "    date_format=\"YYYY-MM-DD\",\n",
    "    datetime_format=\"YYYY-MM-DD HH:MM:SS\"\n",
    ") as writer:\n",
    "    df.to_excel(writer)"
   ]
  },
  {
   "cell_type": "code",
   "execution_count": 19,
   "metadata": {},
   "outputs": [],
   "source": [
    "# append to an existing Excel file\n",
    "import pandas as pd\n",
    "\n",
    "# เพิ่ม sheet 3 ลงในไฟล์ \n",
    "with pd.ExcelWriter(\"path_to_file_sheet.xlsx\", mode=\"a\", engine=\"openpyxl\") as writer:\n",
    "    df.to_excel(writer, sheet_name=\"Sheet3\")"
   ]
  },
  {
   "cell_type": "code",
   "execution_count": null,
   "metadata": {},
   "outputs": [],
   "source": []
  }
 ],
 "metadata": {
  "kernelspec": {
   "display_name": "Python 3",
   "language": "python",
   "name": "python3"
  },
  "language_info": {
   "codemirror_mode": {
    "name": "ipython",
    "version": 3
   },
   "file_extension": ".py",
   "mimetype": "text/x-python",
   "name": "python",
   "nbconvert_exporter": "python",
   "pygments_lexer": "ipython3",
   "version": "3.8.3"
  }
 },
 "nbformat": 4,
 "nbformat_minor": 4
}
